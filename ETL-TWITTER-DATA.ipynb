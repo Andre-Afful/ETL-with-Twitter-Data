{
 "cells": [
  {
   "cell_type": "markdown",
   "metadata": {},
   "source": [
    "# ETL WITH TWITTER DATA\n",
    "\n",
    "\n",
    "## Part 1"
   ]
  },
  {
   "cell_type": "markdown",
   "metadata": {},
   "source": [
    "### Import libraries"
   ]
  },
  {
   "cell_type": "code",
   "execution_count": 1,
   "metadata": {},
   "outputs": [],
   "source": [
    "# importing the required libraries\n",
    "import sys\n",
    "import pandas as pd\n",
    "import csv\n",
    "import time\n",
    "import tweepy\n",
    "import api_keys as k"
   ]
  },
  {
   "cell_type": "markdown",
   "metadata": {},
   "source": [
    "### Retrieve API access details and authenticate user"
   ]
  },
  {
   "cell_type": "code",
   "execution_count": 2,
   "metadata": {},
   "outputs": [],
   "source": [
    "#Twitter API credentials\n",
    "consumer_key = k.credentials['consumer_key']\n",
    "consumer_secret = k.credentials['consumer_secret']\n",
    "access_key = k.credentials['access_key']\n",
    "access_secret = k.credentials['access_secret']\n",
    "\n",
    "auth = tweepy.OAuthHandler(consumer_key, consumer_secret)\n",
    "auth.set_access_token(access_key, access_secret)\n",
    "api = tweepy.API(auth,wait_on_rate_limit=True)"
   ]
  },
  {
   "cell_type": "markdown",
   "metadata": {},
   "source": [
    "### Scrape Data and Store in Dataframe"
   ]
  },
  {
   "cell_type": "code",
   "execution_count": 3,
   "metadata": {},
   "outputs": [],
   "source": [
    "tweets = []\n",
    "\n",
    "def text_query_to_csv(api,text_query,count,max_requests):\n",
    "        # Creation of query method using parameters\n",
    "    tweets = tweepy.Cursor(api.search,q=text_query).items(count)\n",
    "\n",
    "        # Pulling information from tweets iterable object\n",
    "    tweets_list = [[tweet.created_at, tweet.id, tweet.text, tweet.source, tweet.coordinates, tweet.retweet_count, \n",
    "                        tweet.favorite_count, tweet.user.name, tweet.user.screen_name, tweet.user.location, \n",
    "                        tweet.user.friends_count, tweet.user.verified, tweet.user.description, \n",
    "                       tweet.user.followers_count] for tweet in tweets]\n",
    "\n",
    "        # Creation of dataframe from tweets list\n",
    "        # Add or remove columns as you remove tweet information\n",
    "    tweets_df = pd.DataFrame(tweets_list,columns=['Datetime', 'Tweet Id', 'Text', 'Source', 'Coordinates', 'Retweet Count',\n",
    "                                                     'Like Count', 'Username', 'Twitter Handle', 'Location', \n",
    "                                                      'Following', 'Verification Status', 'Description','Followers'])\n",
    "        \n",
    "    return tweets_df  \n",
    "  "
   ]
  },
  {
   "cell_type": "code",
   "execution_count": 4,
   "metadata": {},
   "outputs": [],
   "source": [
    "# Input search query to scrape tweets and name csv file\n",
    "# Max recent tweets pulls x amount of most recent tweets from that search\n",
    "text_query = 'andre_bonzoe'\n",
    "count = 200\n",
    "max_requests = 3\n",
    "\n",
    "# Calling function to query X amount of relevant tweets and create a CSV file\n",
    "response = text_query_to_csv(api, text_query, count, max_requests)"
   ]
  },
  {
   "cell_type": "code",
   "execution_count": 5,
   "metadata": {},
   "outputs": [],
   "source": [
    "def save_csv(tweets_df):\n",
    "    tweets_df.to_csv('{}-tweets.csv'.format(text_query), sep=',', index = False)\n",
    "    \n",
    "    # Creation of csv file with name format 'tweets_downloaded_yymmdd_hhmmss.csv' where 'yymmdd_hhmmss' is the current timestamp.\n",
    "    current_time = time.localtime()\n",
    "    time.strftime(\"%Y%m%d_%H%M%S\", current_time)\n",
    "        \n",
    "    ct_string = time.strftime(\"%Y%m%d_%H%M%S\", current_time)\n",
    "    print(ct_string)\n",
    "        \n",
    "    file_name =f\"tweets_downloaded_{ct_string}.csv\"\n",
    "    tweets_df.to_csv(file_name)\n"
   ]
  },
  {
   "cell_type": "code",
   "execution_count": 6,
   "metadata": {},
   "outputs": [
    {
     "name": "stdout",
     "output_type": "stream",
     "text": [
      "20201217_205941\n"
     ]
    }
   ],
   "source": [
    "save_csv(response)"
   ]
  },
  {
   "cell_type": "markdown",
   "metadata": {},
   "source": [
    "## Part 2\n",
    "\n",
    "### Collecting and storing data in MongoDB"
   ]
  },
  {
   "cell_type": "code",
   "execution_count": 7,
   "metadata": {},
   "outputs": [
    {
     "data": {
      "text/plain": [
       "Database(MongoClient(host=['localhost:27017'], document_class=dict, tz_aware=False, connect=True), 'twitter')"
      ]
     },
     "execution_count": 7,
     "metadata": {},
     "output_type": "execute_result"
    }
   ],
   "source": [
    "from pymongo import MongoClient\n",
    "client = MongoClient('localhost', 27017)\n",
    "db = client['twitter']\n",
    "db"
   ]
  },
  {
   "cell_type": "code",
   "execution_count": 8,
   "metadata": {},
   "outputs": [
    {
     "name": "stdout",
     "output_type": "stream",
     "text": [
      "The collection has been uploded to server...\n"
     ]
    }
   ],
   "source": [
    "class MongoDB(object):\n",
    "    \n",
    "    def __init__(self, dBName=None, collectionName=None ):\n",
    "        self.dBName = dBName\n",
    "        self.collectionName = collectionName\n",
    "        \n",
    "        self.client = client\n",
    "        self.DB = self.client[self.dBName]\n",
    "        self.collection = self.DB[self.collectionName]\n",
    "        \n",
    "    def InsertData(self, path=None):\n",
    "        \"\"\"\n",
    "        :param path: Path os csv file\n",
    "        :return: None\n",
    "        \"\"\"\n",
    "        f = open(path, encoding='utf8')\n",
    "        tweets_df = pd.read_csv(f)\n",
    "        data = tweets_df.to_dict('records')\n",
    "        \n",
    "        self.collection.insert_many(data)\n",
    "        print(\"The collection has been uploded to server...\")\n",
    "        \n",
    "if __name__ =='__main__':\n",
    "    \n",
    "    mongodb = MongoDB(dBName = 'tweets_db', collectionName = 'raw_tweets')\n",
    "    mongodb.InsertData(path = 'tweets_downloaded_20201217_204545.csv')\n",
    "        "
   ]
  },
  {
   "cell_type": "code",
   "execution_count": null,
   "metadata": {},
   "outputs": [],
   "source": []
  }
 ],
 "metadata": {
  "kernelspec": {
   "display_name": "Python 3",
   "language": "python",
   "name": "python3"
  },
  "language_info": {
   "codemirror_mode": {
    "name": "ipython",
    "version": 3
   },
   "file_extension": ".py",
   "mimetype": "text/x-python",
   "name": "python",
   "nbconvert_exporter": "python",
   "pygments_lexer": "ipython3",
   "version": "3.7.9"
  }
 },
 "nbformat": 4,
 "nbformat_minor": 4
}
